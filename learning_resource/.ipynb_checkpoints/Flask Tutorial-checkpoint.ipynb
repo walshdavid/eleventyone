{
 "cells": [
  {
   "cell_type": "markdown",
   "metadata": {},
   "source": [
    "## Flask Microframework Tutorial\n",
    "Flask is a microframework for Python based on Werkzeug, Jinja2 and good intentions.\n",
    "Flask is BSD Licensed which means we can do whatever with it as long as the copyright in Flask is not violated\n",
    "\n",
    "## Installing Flask:"
   ]
  },
  {
   "cell_type": "code",
   "execution_count": null,
   "metadata": {
    "collapsed": true
   },
   "outputs": [],
   "source": [
    "## Firstly run your virtual environment\n",
    "source activate python35\n",
    "\n",
    "## Using pip to install flask\n",
    "pip install Flask"
   ]
  },
  {
   "cell_type": "markdown",
   "metadata": {},
   "source": [
    "## Hello World:"
   ]
  },
  {
   "cell_type": "code",
   "execution_count": 4,
   "metadata": {},
   "outputs": [
    {
     "name": "stderr",
     "output_type": "stream",
     "text": [
      " * Running on http://127.0.0.1:5000/ (Press CTRL+C to quit)\n"
     ]
    }
   ],
   "source": [
    "## main.py\n",
    "from flask import Flask\n",
    "app = Flask(__name__)\n",
    "\n",
    "@app.route('/')\n",
    "def index():\n",
    "    return \"Hello World\"\n",
    "\n",
    "if __name__=='__main__':\n",
    "    app.run(port = 5000)"
   ]
  },
  {
   "cell_type": "markdown",
   "metadata": {},
   "source": [
    "This app will now run on http://127.0.0.1:5000/\n",
    "We can also specify the host and port at app.run()"
   ]
  },
  {
   "cell_type": "markdown",
   "metadata": {},
   "source": [
    "## Templates:\n",
    "Templates is used to separate the layout with the logic.<br>\n",
    "Without Templates, our code would look something like this:"
   ]
  },
  {
   "cell_type": "code",
   "execution_count": null,
   "metadata": {
    "collapsed": true
   },
   "outputs": [],
   "source": [
    "## main.py\n",
    "@app.route('/')\n",
    "def index():\n",
    "    user = {'nickname': 'Jelo'}\n",
    "    return '''\n",
    "<html>\n",
    "  <head>\n",
    "    <title>Home Page</title>\n",
    "  </head>\n",
    "  <body>\n",
    "    <h1>Hello, ''' + user['nickname'] + '''</h1>\n",
    "  </body>\n",
    "</html>\n",
    "'''"
   ]
  },
  {
   "cell_type": "markdown",
   "metadata": {},
   "source": [
    "To separate out the layout from the Python script <br>\n",
    "We have to create out first template <b>(file app/templates/index.html)</b>"
   ]
  },
  {
   "cell_type": "code",
   "execution_count": null,
   "metadata": {
    "collapsed": true
   },
   "outputs": [],
   "source": [
    "<html>\n",
    "  <head>\n",
    "    <title>{{ title }}</title>\n",
    "  </head>\n",
    "  <body>\n",
    "      <h1>Hello, {{ user.username }}!</h1>\n",
    "  </body>\n",
    "</html>"
   ]
  },
  {
   "cell_type": "markdown",
   "metadata": {},
   "source": [
    "As you can see we have mostly HTML with the only difference being the placeholders for the dynamic content enclosed in {{...}} <br>\n",
    "\n",
    "We are going to use this template in our <b>index.py<b>"
   ]
  },
  {
   "cell_type": "code",
   "execution_count": null,
   "metadata": {
    "collapsed": true
   },
   "outputs": [],
   "source": [
    "from flask import render_template\n",
    "\n",
    "@app.route('/')\n",
    "def index():\n",
    "    user = {'username' :'Jelo'}\n",
    "    return render_template('index.html', \n",
    "                           title = \"Jelo's Website\", \n",
    "                           user = user)"
   ]
  },
  {
   "cell_type": "markdown",
   "metadata": {},
   "source": [
    "## Control Statements in Templates:\n",
    "The jinja2 templates support control statements, given inside {%...%} blocks. <br>\n",
    "Let's add an <b>if statement</b> to our template in <b>app/templates/index.html</b>"
   ]
  },
  {
   "cell_type": "code",
   "execution_count": null,
   "metadata": {
    "collapsed": true
   },
   "outputs": [],
   "source": [
    "<html>\n",
    "  <head>\n",
    "    {% if title %}\n",
    "    <title>{{ title }}</title>\n",
    "    {% else %}\n",
    "    <title>Welcome to website</title>\n",
    "    {% endif %}\n",
    "  </head>\n",
    "  <body>\n",
    "      <h1>Hello, {{ user.username }}!</h1>\n",
    "  </body>\n",
    "</html>"
   ]
  },
  {
   "cell_type": "markdown",
   "metadata": {
    "collapsed": true
   },
   "source": [
    "## Layouts in Templates\n",
    "To allow a consistent layout throughout our application, we're going to create a layout.html which will act as our parent which the other pages will extend from.\n",
    "<b> layout.html </b> inside our <b>templates</b> folder"
   ]
  },
  {
   "cell_type": "code",
   "execution_count": null,
   "metadata": {
    "collapsed": true
   },
   "outputs": [],
   "source": [
    "# layout.html parent code\n",
    "<!DOCTYPE html>\n",
    "<html>\n",
    "    <head>\n",
    "        <meta charset=\"utf-8\">\n",
    "        <title> My Sample Application</title>\n",
    "    </head>\n",
    "    <body>\n",
    "    {% block body %}{% endblock %}\n",
    "    </body>\n",
    "</html>"
   ]
  },
  {
   "cell_type": "markdown",
   "metadata": {},
   "source": [
    "The {% block body %}{% endblock %} is where we place the other pages into e.g. <b>index.html</b> <br>\n",
    "\n",
    "We've also added a button that has a listener to move to a different page"
   ]
  },
  {
   "cell_type": "code",
   "execution_count": null,
   "metadata": {
    "collapsed": true
   },
   "outputs": [],
   "source": [
    "# login.html child code\n",
    "{% extends 'layout.html' %}\n",
    "{% block body %}\n",
    "    <h1>This is the index Page</h1>\n",
    "    <form action=\"{{ url_for('register_user') }}\" method=[\"GET\"]>\n",
    "    <dl>\n",
    "      <dd><input type=\"submit\" value=\"Login\">\n",
    "    </dl>\n",
    "  </form>\n",
    "{% endblock %}"
   ]
  },
  {
   "cell_type": "markdown",
   "metadata": {},
   "source": [
    "## Routing\n",
    "Routing is how we get from one page to another.\n",
    "Lets say we want to move from one page to another.\n",
    "In our <b>flaskserver.py</b>"
   ]
  },
  {
   "cell_type": "code",
   "execution_count": null,
   "metadata": {
    "collapsed": true
   },
   "outputs": [],
   "source": [
    "from flask import Flask, render_template\n",
    "# Define our application\n",
    "app = Flask(__name__)\n",
    "\n",
    "### Route Pages ###\n",
    "# 1st Index Page\n",
    "@app.route('/')\n",
    "def index_page():\n",
    "    return render_template('index.html')\n",
    "\n",
    "# 2nd Page\n",
    "@app.route('/otherpage')\n",
    "def other_page():\n",
    "    return render_template('otherpage.html')\n",
    "\n",
    "# Move to other page function listener\n",
    "@app.route('/movepage')\n",
    "def move_page():\n",
    "    return render_template('otherpage.html')\n",
    "\n",
    "# Running on port 5000\n",
    "if __name__ == '__main__':\n",
    "    app.run(port=5000)"
   ]
  },
  {
   "cell_type": "markdown",
   "metadata": {},
   "source": [
    "In our <b>otherpage.html</b>"
   ]
  },
  {
   "cell_type": "code",
   "execution_count": null,
   "metadata": {
    "collapsed": true
   },
   "outputs": [],
   "source": [
    "# login.html child code\n",
    "{% extends 'layout.html' %}\n",
    "{% block body %}\n",
    "    <h1>This is the other Page</h1>\n",
    "{% endblock %}"
   ]
  }
 ],
 "metadata": {
  "kernelspec": {
   "display_name": "Python 3",
   "language": "python",
   "name": "python3"
  },
  "language_info": {
   "codemirror_mode": {
    "name": "ipython",
    "version": 3
   },
   "file_extension": ".py",
   "mimetype": "text/x-python",
   "name": "python",
   "nbconvert_exporter": "python",
   "pygments_lexer": "ipython3",
   "version": "3.6.1"
  }
 },
 "nbformat": 4,
 "nbformat_minor": 2
}
